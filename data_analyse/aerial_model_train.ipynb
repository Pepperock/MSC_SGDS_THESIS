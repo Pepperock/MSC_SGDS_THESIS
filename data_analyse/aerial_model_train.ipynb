{
 "cells": [
  {
   "cell_type": "code",
   "execution_count": null,
   "metadata": {},
   "outputs": [],
   "source": [
    "import pandas as pd \n",
    "import numpy as np\n",
    "import os\n",
    "import keras_preprocessing\n",
    "import random\n",
    "import tensorflow as tf\n",
    "from tensorflow.keras import layers\n",
    "from sklearn.model_selection import train_test_split\n",
    "from sklearn.metrics import classification_report\n",
    "from tensorflow.keras import layers, models, optimizers\n",
    "from tensorflow.keras.optimizers import SGD, Adam\n",
    "from sklearn.model_selection import train_test_split\n",
    "from sklearn.linear_model import LogisticRegression\n",
    "from sklearn.metrics import accuracy_score, f1_score\n",
    "from xgboost import XGBClassifier\n",
    "from google.colab import files "
   ]
  },
  {
   "cell_type": "code",
   "execution_count": null,
   "metadata": {},
   "outputs": [],
   "source": [
    "import process_tool\n",
    "import DLmodels\n",
    "import preprocess \n",
    "from process_tool import empty_col\n",
    "from process_tool import name_to_num\n",
    "from process_tool import num_to_name\n",
    "from process_tool import array_valid"
   ]
  },
  {
   "cell_type": "code",
   "execution_count": null,
   "metadata": {},
   "outputs": [],
   "source": [
    "wealth_total = pd.read_csv(\"./data/wealth_total.csv\")"
   ]
  },
  {
   "cell_type": "code",
   "execution_count": null,
   "metadata": {},
   "outputs": [],
   "source": [
    "safe_sa = pd.read_pickle(\"./data/safe_street_aerial.pkl\")\n",
    "wealth_sa = pd.read_pickle(\"./data/wealth_street_aerial.pkl\")\n",
    "lively_sa = pd.read_pickle(\"./data/lively_street_aerial.pkl\")\n",
    "safe_sa = preprocess.dense_preprocess(safe_sa, 'aerial', 'dense_aerial')\n",
    "wealth_sa = preprocess.dense_preprocess(wealth_sa, 'aerial', 'dense_aerial')\n",
    "lively_sa = preprocess.dense_preprocess(lively_sa, 'aerial', 'dense_aerial')"
   ]
  },
  {
   "cell_type": "code",
   "execution_count": null,
   "metadata": {},
   "outputs": [],
   "source": [
    "X1 = safe_sa['dense_aerial']\n",
    "X1 = array_valid(X1) #np.ndarray processing \n",
    "safe_aerial_feature = DLmodels.dense_tb(X1)\n",
    "\n",
    "X2 = wealth_sa['dense_aerial']\n",
    "X2 = array_valid(X2)\n",
    "wealth_aerial_feature = DLmodels.dense_tb(X2)\n",
    "\n",
    "X3 = lively_sa['dense_aerial']\n",
    "X3 = array_valid(X3)\n",
    "lively_aerial_feature = DLmodels.dense_tb(X3)\n",
    "\n",
    "#save the feature extracted by denseNet from aerial images \n",
    "safe_aerial_feature.to_csv(\"./data_collection_aug/aerial_features/safe_aerial_feature_dense.csv\")\n",
    "wealth_aerial_feature.to_csv(\"./data_collection_aug/aerial_features/wealth_aerial_feature_dense.csv\")\n",
    "lively_aerial_feature.to_csv(\"./data_collection_aug/aerial_features/lively_aerial_feature_dense.csv\")"
   ]
  },
  {
   "cell_type": "markdown",
   "metadata": {},
   "source": [
    "# train the safety perception model on aerial features"
   ]
  },
  {
   "cell_type": "code",
   "execution_count": null,
   "metadata": {},
   "outputs": [],
   "source": [
    "from sklearn.preprocessing import StandardScaler\n",
    "from sklearn.svm import SVC\n",
    "\n",
    "X = safe_aerial_feature\n",
    "scaler = StandardScaler()\n",
    "X = scaler.fit_transform(X)\n",
    "y = safe_total['class']\n",
    "x_train, x_test, y_train, y_test = train_test_split(X, y, random_state = 0, test_size = 0.25)\n",
    "\n",
    "#from hyperparam tuning, we found that default param is quite close to the optimum so we just used the default\n",
    "clf = SVC(probability = True)\n",
    "clf.fit(x_train, y_train)\n",
    "pred_clf = clf.predict(x_test)\n",
    "pred_clf2 = clf.predict(x_train)\n",
    "acc_clf = accuracy_score(pred_clf, y_test)\n",
    "acc_clf2 = accuracy_score(pred_clf2, y_train)\n",
    "print(accuracy_score(pred_clf2, y_train), acc_clf, f1_score(pred_clf2, y_train), f1_score(pred_clf, y_test))\n",
    "\n",
    "#save the trained model \n",
    "import pickle\n",
    "filename = './data/models/svm_safe_aerial_model.sav'\n",
    "pickle.dump(clf, open(filename, 'wb'))"
   ]
  },
  {
   "cell_type": "markdown",
   "metadata": {},
   "source": [
    "# train the lively perception model on aerial features"
   ]
  },
  {
   "cell_type": "code",
   "execution_count": null,
   "metadata": {},
   "outputs": [],
   "source": [
    "X = lively_aerial_feature\n",
    "scaler = StandardScaler()\n",
    "X = scaler.fit_transform(X)\n",
    "y = lively_sa['class']\n",
    "x_train, x_test, y_train, y_test = train_test_split(X, y, random_state = 0, test_size = 0.25)\n",
    "\n",
    "clf = SVC(probability = True)\n",
    "clf.fit(x_train, y_train)\n",
    "pred_clf = clf.predict(x_test)\n",
    "pred_clf2 = clf.predict(x_train)\n",
    "acc_clf = accuracy_score(pred_clf, y_test)\n",
    "acc_clf2 = accuracy_score(pred_clf2, y_train)\n",
    "print(accuracy_score(pred_clf2, y_train), acc_clf, f1_score(pred_clf2, y_train), f1_score(pred_clf, y_test))\n",
    "\n",
    "filename = './data/models/svm_lively_aerial_model.sav'\n",
    "pickle.dump(clf, open(filename, 'wb'))"
   ]
  },
  {
   "cell_type": "markdown",
   "metadata": {},
   "source": [
    "# train the wealth perception model on lively features"
   ]
  },
  {
   "cell_type": "code",
   "execution_count": null,
   "metadata": {},
   "outputs": [],
   "source": [
    "X = wealth_aerial_feature\n",
    "scaler = StandardScaler()\n",
    "X = scaler.fit_transform(X)\n",
    "y = wealth_sa_nona['class']\n",
    "x_train, x_test, y_train, y_test = train_test_split(X, y, random_state = 0, test_size = 0.25)\n",
    "\n",
    "clf = SVC(probability = True)\n",
    "clf.fit(x_train, y_train)\n",
    "pred_clf = clf.predict(x_test)\n",
    "pred_clf2 = clf.predict(x_train)\n",
    "acc_clf = accuracy_score(pred_clf, y_test)\n",
    "acc_clf2 = accuracy_score(pred_clf2, y_train)\n",
    "print(accuracy_score(pred_clf2, y_train), acc_clf, f1_score(pred_clf2, y_train), f1_score(pred_clf, y_test))\n",
    "\n",
    "filename = './data/models/svm_wealth_aerial_model.sav'\n",
    "pickle.dump(clf, open(filename, 'wb'))"
   ]
  }
 ],
 "metadata": {
  "language_info": {
   "name": "python"
  },
  "orig_nbformat": 4
 },
 "nbformat": 4,
 "nbformat_minor": 2
}
